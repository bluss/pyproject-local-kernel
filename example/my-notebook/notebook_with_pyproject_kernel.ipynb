{
 "cells": [
  {
   "cell_type": "markdown",
   "id": "e2bcc3db-f37c-41fb-924b-09d50d054be2",
   "metadata": {},
   "source": [
    "This is a notebook using the Pyproject Local kernel.\n",
    "\n",
    "That means - it looks at the closest pyproject.toml and runs the python kernel in the environment defined by the project.\n",
    "\n",
    "In this example, it's using uv through `uv run`, so it should sync the required dependencies\n",
    "automatically on first run of the notebook."
   ]
  },
  {
   "cell_type": "code",
   "execution_count": null,
   "id": "25aafd5e",
   "metadata": {},
   "outputs": [],
   "source": [
    "import sys\n",
    "sys.executable, sys.version_info"
   ]
  },
  {
   "cell_type": "code",
   "execution_count": null,
   "id": "c0bc980b",
   "metadata": {},
   "outputs": [],
   "source": [
    "import numpy as np\n",
    "np.__version__"
   ]
  },
  {
   "cell_type": "markdown",
   "id": "d9590b4d-2410-419f-956b-7c8a042f3f89",
   "metadata": {},
   "source": [
    "If you use other project managers such as for example rye you might need to run `rye sync` or similar to sync\n",
    "the notebook before starting. This can be run directly in the notebook, and then you restart the kernel in the jupyterlab interface."
   ]
  },
  {
   "cell_type": "raw",
   "id": "883a0318-d9a7-4d6c-9c7f-5dc9b7298f07",
   "metadata": {},
   "source": [
    "!rye sync"
   ]
  }
 ],
 "metadata": {
  "jupytext": {
   "formats": "ipynb,auto:percent"
  },
  "kernelspec": {
   "display_name": "Pyproject Local",
   "language": "python",
   "name": "pyproject_local_kernel"
  },
  "language_info": {
   "codemirror_mode": {
    "name": "ipython",
    "version": 3
   },
   "file_extension": ".py",
   "mimetype": "text/x-python",
   "name": "python",
   "nbconvert_exporter": "python",
   "pygments_lexer": "ipython3",
   "version": "3.12.5"
  }
 },
 "nbformat": 4,
 "nbformat_minor": 5
}

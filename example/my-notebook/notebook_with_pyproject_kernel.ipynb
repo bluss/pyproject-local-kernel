{
 "cells": [
  {
   "cell_type": "markdown",
   "id": "e2bcc3db-f37c-41fb-924b-09d50d054be2",
   "metadata": {},
   "source": [
    "This is a notebook using the Pyproject Local kernel.\n",
    "\n",
    "That means - it looks at the closest pyproject.toml and runs the python kernel in the environment defined by the project.\n",
    "\n",
    "You'll need to sync the project (download dependencies) before\n",
    "it can execute properly.  \n",
    "In this example, it's using rye, so you'd run rye sync and restart the kernel if needed."
   ]
  },
  {
   "cell_type": "code",
   "execution_count": null,
   "id": "b2b60cb1-5520-4c3e-8ff2-d4212107e6a5",
   "metadata": {
    "scrolled": true
   },
   "outputs": [],
   "source": [
    "!rye sync"
   ]
  },
  {
   "cell_type": "code",
   "execution_count": null,
   "id": "25aafd5e",
   "metadata": {},
   "outputs": [],
   "source": [
    "import sys\n",
    "sys.executable, sys.version_info"
   ]
  },
  {
   "cell_type": "code",
   "execution_count": null,
   "id": "c0bc980b",
   "metadata": {},
   "outputs": [],
   "source": [
    "import numpy as np\n",
    "np.__version__"
   ]
  },
  {
   "cell_type": "code",
   "execution_count": null,
   "id": "352eeecc",
   "metadata": {},
   "outputs": [],
   "source": []
  }
 ],
 "metadata": {
  "kernelspec": {
   "display_name": "Pyproject Local",
   "language": "python",
   "name": "pyproject_local_kernel"
  },
  "language_info": {
   "codemirror_mode": {
    "name": "ipython",
    "version": 3
   },
   "file_extension": ".py",
   "mimetype": "text/x-python",
   "name": "python",
   "nbconvert_exporter": "python",
   "pygments_lexer": "ipython3",
   "version": "3.11.7"
  }
 },
 "nbformat": 4,
 "nbformat_minor": 5
}
